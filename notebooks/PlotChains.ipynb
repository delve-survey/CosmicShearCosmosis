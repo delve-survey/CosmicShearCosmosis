{
 "cells": [
  {
   "cell_type": "code",
   "execution_count": 1,
   "id": "ef5ed4e3-dc09-43d5-b465-ae320430bc11",
   "metadata": {},
   "outputs": [
    {
     "name": "stdout",
     "output_type": "stream",
     "text": [
      "%pylab is deprecated, use %matplotlib inline and import the required libraries.\n",
      "Populating the interactive namespace from numpy and matplotlib\n"
     ]
    }
   ],
   "source": [
    "import getdist\n",
    "import pylab as mplot\n",
    "import numpy as np\n",
    "import astropy.io.fits as pf\n",
    "%pylab inline\n",
    "\n",
    "mplot.rc('text', usetex=True)\n",
    "mplot.rc('font', family='serif')\n",
    "\n",
    "from getdist.mcsamples import MCSamplesFromCobaya\n",
    "from getdist.mcsamples import loadMCSamples\n",
    "import os\n",
    "from getdist import plots, MCSamples\n",
    "\n",
    "import matplotlib\n",
    "%matplotlib inline\n",
    "# matplotlib.use('TkAgg')"
   ]
  },
  {
   "cell_type": "code",
   "execution_count": 3,
   "id": "923c6dbc-96ef-4853-9d18-edf9cd1163fc",
   "metadata": {},
   "outputs": [
    {
     "name": "stdout",
     "output_type": "stream",
     "text": [
      "[00] omega_m\n",
      "[01] h0\n",
      "[02] omega_b\n",
      "[03] n_s\n",
      "[04] a_s\n",
      "[05] omnuh2\n",
      "[06] m1\n",
      "[07] m2\n",
      "[08] m3\n",
      "[09] m4\n",
      "[10] bias_1\n",
      "[11] bias_2\n",
      "[12] bias_3\n",
      "[13] bias_4\n",
      "[14] a1\n",
      "[15] a2\n",
      "[16] alpha1\n",
      "[17] alpha2\n",
      "[18] bias_ta\n",
      "[19] SIGMA_8\n",
      "[20] SIGMA_12\n",
      "[21] 2PT_CHI2\n",
      "[22] log_weight\n",
      "[23] prior\n",
      "[24] post\n",
      "\n",
      "23900\n",
      "[00] omega_m\n",
      "[01] h0\n",
      "[02] omega_b\n",
      "[03] n_s\n",
      "[04] a_s\n",
      "[05] omnuh2\n",
      "[06] m1\n",
      "[07] m2\n",
      "[08] m3\n",
      "[09] m4\n",
      "[10] bias_1\n",
      "[11] bias_2\n",
      "[12] bias_3\n",
      "[13] bias_4\n",
      "[14] a1\n",
      "[15] a2\n",
      "[16] alpha1\n",
      "[17] alpha2\n",
      "[18] bias_ta\n",
      "[19] SIGMA_8\n",
      "[20] SIGMA_12\n",
      "[21] 2PT_CHI2\n",
      "[22] log_weight\n",
      "[23] prior\n",
      "[24] post\n",
      "\n",
      "20000\n"
     ]
    }
   ],
   "source": [
    "def load_chain_info(file):\n",
    "    import subprocess\n",
    "    with open(file) as f:\n",
    "        first_line = f.readline()\n",
    "    a = first_line.split(\"\\t\")\n",
    "    for i in range(0,len(a)-3):\n",
    "        print(\"[%02d] %s\"%(i,a[i].split('--')[1]))\n",
    "    for i in range(len(a)-3,len(a)):\n",
    "        print(\"[%02d] %s\"%(i,a[i]))\n",
    "        \n",
    "    print(subprocess.check_output(['tail', '-5', file]).decode('ascii').split('\\n')[0].split('=')[1] )\n",
    "    \n",
    "    nlines = int(subprocess.check_output(['tail', '-5', file]).decode('ascii').split('\\n')[0].split('=')[1] )\n",
    "    chain  = np.loadtxt(file)\n",
    "    return chain, nlines\n",
    "    \n",
    "c_nc, n_nc =load_chain_info('/project/chihway/data/decade/chains/fiducial-cuts.txt')\n",
    "c_cc, n_cc =load_chain_info('/project/chihway/data/decade/chains/chihway/fiducial-cuts.txt')"
   ]
  },
  {
   "cell_type": "code",
   "execution_count": 6,
   "id": "76e7577d-f774-4dda-8b5d-dffb366a3ce9",
   "metadata": {},
   "outputs": [
    {
     "name": "stderr",
     "output_type": "stream",
     "text": [
      "WARNING:root:outlier fraction 4.344803614876608e-05 \n"
     ]
    },
    {
     "name": "stdout",
     "output_type": "stream",
     "text": [
      "Removed no burn in\n",
      "Removed no burn in\n"
     ]
    },
    {
     "data": {
      "image/png": "[encoded data removed]",
      "text/plain": [
       "<Figure size 400x400 with 3 Axes>"
      ]
     },
     "metadata": {},
     "output_type": "display_data"
    }
   ],
   "source": [
    "fid = MCSamples(samples = np.c_[c_cc[:,0],c_cc[:,19]*np.sqrt(c_cc[:,0]/0.3)],\n",
    "                weights = np.exp(c_cc[:,22]),\n",
    "                names   = ['omegam','S8'],\n",
    "                labels  = ['Om','S8'],\n",
    "                label   = \"delve\")\n",
    "\n",
    "fid_nc = MCSamples(samples = np.c_[c_nc[:,0],c_nc[:,19]*np.sqrt(c_nc[:,0]/0.3)],\n",
    "                weights = np.exp(c_nc[:,22]),\n",
    "                names   = ['omegam','S8'],\n",
    "                labels  = ['Om','S8'],\n",
    "                label   = \"delve\")\n",
    "\n",
    "g = plots.get_subplot_plotter(width_inch=4)\n",
    "g.settings.figure_legend_frame = False\n",
    "g.settings.alpha_filled_add=0.6\n",
    "g.settings.axes_fontsize=14\n",
    "g.settings.axes_labelsize=16\n",
    "g.settings.legend_fontsize=16\n",
    "g.settings.line_labels = True\n",
    "\n",
    "\n",
    "g.triangle_plot([fid, fid_nc],\n",
    "                ['omegam','S8'], \n",
    "                filled=[True],\n",
    "                alpha=[0.2],\n",
    "                legend_labels=[\"fid\", \"fid NC\"], \n",
    "                legend_loc='upper right',  \n",
    "                contour_colors=['gray', 'b'],    \n",
    "                title_limit=1, \n",
    "                markers={'omegam':0.3, 'S8': 0.82355}# first title limit (for 1D plots) is 68% by default\n",
    "                )\n",
    "\n",
    "mplot.show()"
   ]
  },
  {
   "cell_type": "code",
   "execution_count": null,
   "id": "0c166078-4e3d-4919-a0a8-f0682ccdfb53",
   "metadata": {},
   "outputs": [],
   "source": []
  }
 ],
 "metadata": {
  "kernelspec": {
   "display_name": "shear",
   "language": "python",
   "name": "shear"
  },
  "language_info": {
   "codemirror_mode": {
    "name": "ipython",
    "version": 3
   },
   "file_extension": ".py",
   "mimetype": "text/x-python",
   "name": "python",
   "nbconvert_exporter": "python",
   "pygments_lexer": "ipython3",
   "version": "3.9.12"
  }
 },
 "nbformat": 4,
 "nbformat_minor": 5
}
